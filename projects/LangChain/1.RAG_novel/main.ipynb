{
 "cells": [
  {
   "cell_type": "markdown",
   "id": "2f7afd26",
   "metadata": {},
   "source": [
    "# 1.读取文件 + 切割文件"
   ]
  },
  {
   "cell_type": "code",
   "execution_count": 2,
   "id": "5afbf173",
   "metadata": {},
   "outputs": [],
   "source": [
    "import { load } from \"dotenv\";\n",
    "\n",
    "const env = await load();\n",
    "const process = {\n",
    "    env\n",
    "}"
   ]
  },
  {
   "cell_type": "code",
   "execution_count": 3,
   "id": "68e6a5cc",
   "metadata": {},
   "outputs": [],
   "source": [
    "import { TextLoader } from \"langchain/document_loaders/fs/text\";\n",
    "const loader = new TextLoader(\"data/qiu.txt\");\n",
    "const docs = await loader.load();"
   ]
  },
  {
   "cell_type": "code",
   "execution_count": null,
   "id": "2eba4570",
   "metadata": {},
   "outputs": [
    {
     "name": "stdout",
     "output_type": "stream",
     "text": [
      "Document {\n",
      "  pageContent: \"序曲\\n\" +\n",
      "    \"　　今天是我的生日，直到晚上爸爸妈妈点上了生日蛋糕的蜡烛，我们三个围着十四个小火苗坐下来，我才想起这事。\\n\" +\n",
      "    \"　　这是个雷雨之夜，整个宇宙似乎是由密集的闪电和我们的小屋组成。当那蓝色的电光闪起时，窗外的雨珠在一瞬间看得清清楚楚，那雨珠似乎凝固了，像密密地挂在天地间的一串串晶莹的水晶。这时我的脑海中就有一个闪念：世界要是那样的也很有意思，你每天一出门，就在那水晶的密帘中走路，它们在你周围发出丁零丁零的响声，只是，这样玲珑剔透的世界，如何经得住那暴烈的雷电呢……世界在我的眼中总和在别人眼中不一样，我总是努力使世界变形，这是我长这么大对自己唯一的认识。\\n\" +\n",
      "    \"　　暴雨是从傍晚开始的，自那以后闪电和雷声越来越密，开始，每当一道闪电过后，我脑海中一边回忆着刚才窗外那转瞬即逝的水晶世界，一边绷紧头皮等待着那一声炸雷，但现在，闪电太密集了，我已分不出哪声雷属于哪个闪电了。\",\n",
      "  metadata: { source: \"data/qiu.txt\", loc: { lines: { from: 25, to: 28 } } }\n",
      "}\n"
     ]
    }
   ],
   "source": [
    "// 初始化切割类\n",
    "import { RecursiveCharacterTextSplitter } from \"langchain/text_splitter\";\n",
    "\n",
    "const splitter = new RecursiveCharacterTextSplitter({\n",
    "    chunkSize: 500,\n",
    "    chunkOverlap: 100,\n",
    "});\n",
    "const splitDocs = await splitter.splitDocuments(docs);\n",
    "\n",
    "console.log(splitDocs[4]);"
   ]
  },
  {
   "cell_type": "code",
   "execution_count": 7,
   "id": "4e073861",
   "metadata": {},
   "outputs": [
    {
     "name": "stdout",
     "output_type": "stream",
     "text": [
      "序曲\n",
      "　　今天是我的生日，直到晚上爸爸妈妈点上了生日蛋糕的蜡烛，我们三个围着十四个小火苗坐下来，我才想起这事。\n",
      "　　这是个雷雨之夜，整个宇宙似乎是由密集的闪电和我们的小屋组成。当那蓝色的电光闪起时，窗外的雨珠在一瞬间看得清清楚楚，那雨珠似乎凝固了，像密密地挂在天地间的一串串晶莹的水晶。这时我的脑海中就有一个闪念：世界要是那样的也很有意思，你每天一出门，就在那水晶的密帘中走路，它们在你周围发出丁零丁零的响声，只是，这样玲珑剔透的世界，如何经得住那暴烈的雷电呢……世界在我的眼中总和在别人眼中不一样，我总是努力使世界变形，这是我长这么大对自己唯一的认识。\n",
      "　　暴雨是从傍晚开始的，自那以后闪电和雷声越来越密，开始，每当一道闪电过后，我脑海中一边回忆着刚才窗外那转瞬即逝的水晶世界，一边绷紧头皮等待着那一声炸雷，但现在，闪电太密集了，我已分不出哪声雷属于哪个闪电了。\n"
     ]
    }
   ],
   "source": [
    "console.log(splitDocs[4].pageContent);"
   ]
  },
  {
   "cell_type": "markdown",
   "id": "5188c100",
   "metadata": {},
   "source": [
    "# 2. 使用向量模型，构建RAGChain"
   ]
  },
  {
   "cell_type": "code",
   "execution_count": null,
   "id": "87e8c94c",
   "metadata": {},
   "outputs": [
    {
     "ename": "Error",
     "evalue": "OpenAI or Azure OpenAI API key not found",
     "output_type": "error",
     "traceback": [
      "Stack trace:",
      "Error: OpenAI or Azure OpenAI API key not found",
      "    at new OpenAIEmbeddings (file:///Users/wcbbcc/Library/Caches/deno/npm/registry.npmmirror.com/@langchain/openai/0.0.22/dist/embeddings.js:114:19)",
      "    at <anonymous>:3:20"
     ]
    }
   ],
   "source": [
    "import { OpenAIEmbeddings } from \"@langchain/openai\";\n",
    "import { MemoryVectorStore } from \"langchain/vectorstores/memory\";\n",
    "\n",
    "const embeddings = new OpenAIEmbeddings();\n",
    "const vectorstore = new MemoryVectorStore(embeddings);\n",
    "await vectorstore.addDocuments(splitDocs);\n",
    "\n",
    "const retriever = vectorstore.asRetriever(2);"
   ]
  },
  {
   "cell_type": "markdown",
   "id": "f382e5a3",
   "metadata": {},
   "source": [
    "# 3. 构建RetriverChain"
   ]
  },
  {
   "cell_type": "code",
   "execution_count": null,
   "id": "19bad6f5",
   "metadata": {},
   "outputs": [
    {
     "ename": "ReferenceError",
     "evalue": "retriever is not defined",
     "output_type": "error",
     "traceback": [
      "Stack trace:",
      "ReferenceError: retriever is not defined",
      "    at <anonymous>:8:3",
      "    at eventLoopTick (ext:core/01_core.js:179:7)"
     ]
    },
    {
     "ename": "",
     "evalue": "",
     "output_type": "error",
     "traceback": [
      "\u001b[1;31mThe Kernel crashed while executing code in the current cell or a previous cell. \n",
      "\u001b[1;31mPlease review the code in the cell(s) to identify a possible cause of the failure. \n",
      "\u001b[1;31mClick <a href='https://aka.ms/vscodeJupyterKernelCrash'>here</a> for more info. \n",
      "\u001b[1;31mView Jupyter <a href='command:jupyter.viewOutput'>log</a> for further details."
     ]
    }
   ],
   "source": [
    "import { RunnableSequence } from \"@langchain/core/runnables\";\n",
    "import { Document } from \"@langchain/core/documents\";\n",
    "\n",
    "const convertDocsToString = (documents: Document[]): string => {\n",
    "    return documents.map((document)=> document.pageContent.join(\"\\n\"));\n",
    "};\n",
    "const contextRetriverChain = RunnableSequence([\n",
    "    (input) => input.question,\n",
    "    retriever,\n",
    "    convertDocsToString\n",
    "]);"
   ]
  },
  {
   "cell_type": "code",
   "execution_count": null,
   "id": "cb30e2fa",
   "metadata": {},
   "outputs": [],
   "source": [
    "const result = await contextRetriverChain.invoke({\n",
    "    question: \"...\"\n",
    "});\n",
    "console.log(result);"
   ]
  },
  {
   "cell_type": "markdown",
   "id": "acc562d7",
   "metadata": {},
   "source": [
    "# 4. 创建ChatBot: RAG + prompt + model + output转化"
   ]
  },
  {
   "cell_type": "code",
   "execution_count": null,
   "id": "ebb1be8b",
   "metadata": {},
   "outputs": [],
   "source": [
    "import { ChatPromptTemplate } from \"@langchain/core/prompts\";\n",
    "const TEMPLATE = `\n",
    "你是一个熟读刘慈欣的《球状闪电》的终极原著党，精通根据作品原文详细解释和回答问题，你在回答时会引用作品原文。\n",
    "并且回答时仅根据原文，尽可能回答用户问题，如果原文中没有相关内容，你可以回答“原文中没有相关内容”，\n",
    "\n",
    "以下是原文中跟用户回答相关的内容：\n",
    "{context}\n",
    "\n",
    "现在，你需要基于原文，回答以下问题：\n",
    "{question}`;\n",
    "\n",
    "const prompt = ChatPromptTemplate.fromTemplate(TEMPLATE);"
   ]
  },
  {
   "cell_type": "code",
   "execution_count": null,
   "id": "090b0a60",
   "metadata": {},
   "outputs": [],
   "source": [
    "import { ChatOpenAI } from \"@langchin/openai\";\n",
    "import { StringOutputParser } from \"@langchain/core/output_parsers\";\n",
    "\n",
    "const model = new ChatOpenAI();\n",
    "\n",
    "const ragChain = RunnableSequence.form([\n",
    "    {\n",
    "        context: contextRetriverChain,\n",
    "        question: (input)=> input.question,\n",
    "    },\n",
    "    prompt,\n",
    "    model,\n",
    "    new StringOutputParser()\n",
    "]);\n",
    "\n",
    "const answer = await ragChain.invoke({\n",
    "    question: \"什么是球状闪电\"\n",
    "});\n",
    "console.log(answer);"
   ]
  }
 ],
 "metadata": {
  "kernelspec": {
   "display_name": "Deno",
   "language": "typescript",
   "name": "deno"
  },
  "language_info": {
   "codemirror_mode": "typescript",
   "file_extension": ".ts",
   "mimetype": "text/x.typescript",
   "name": "typescript",
   "nbconvert_exporter": "script",
   "pygments_lexer": "typescript",
   "version": "5.8.3"
  }
 },
 "nbformat": 4,
 "nbformat_minor": 5
}
